{
  "nbformat": 4,
  "nbformat_minor": 0,
  "metadata": {
    "colab": {
      "name": "MyDense class.ipynb",
      "provenance": [],
      "authorship_tag": "ABX9TyMYi15G2aDosWPP2XPLZZ2e",
      "include_colab_link": true
    },
    "kernelspec": {
      "name": "python3",
      "display_name": "Python 3"
    }
  },
  "cells": [
    {
      "cell_type": "markdown",
      "metadata": {
        "id": "view-in-github",
        "colab_type": "text"
      },
      "source": [
        "<a href=\"https://colab.research.google.com/github/PenroseTiles/Tensorflow2.0_Tutorials/blob/master/MyDense_class.ipynb\" target=\"_parent\"><img src=\"https://colab.research.google.com/assets/colab-badge.svg\" alt=\"Open In Colab\"/></a>"
      ]
    },
    {
      "cell_type": "code",
      "metadata": {
        "id": "7eIBqQ3ldqwp",
        "colab_type": "code",
        "colab": {}
      },
      "source": [
        "import tensorflow as tf\n",
        "from tensorflow.keras import backend as K\n",
        "from tensorflow.keras.layers import Layer, InputLayer\n",
        "from tensorflow.keras.models import Model, Sequential"
      ],
      "execution_count": 0,
      "outputs": []
    },
    {
      "cell_type": "code",
      "metadata": {
        "id": "XDVlkm4weJOd",
        "colab_type": "code",
        "colab": {}
      },
      "source": [
        "class MyDense(Layer):\n",
        "  def __init__(self, num_units, use_bias=True, weights_initializer, bias_initializer):\n",
        "    self.num_units =num_units\n",
        "    self.use_bias = use_bias\n",
        "    super().__init__()\n",
        "  \n",
        "  #build is only recommended with the argument input_shape\n",
        "  def build(self, input_shape):\n",
        "    self.w = self.add_weight(name='w', shape=[input_shape[-1], self.num_units])\n",
        "    if self.use_bias:\n",
        "      self.b = self.add_weight(name='b', shape=[self.num_units])\n",
        "    else:\n",
        "      self.b = None\n",
        "  \n",
        "  def call(self, x):\n",
        "    ret = tf.matmul(x, self.w)\n",
        "    if self.use_bias:\n",
        "      ret = ret + self.b\n",
        "    return ret"
      ],
      "execution_count": 0,
      "outputs": []
    },
    {
      "cell_type": "code",
      "metadata": {
        "id": "1ugiT2U-gZaP",
        "colab_type": "code",
        "colab": {}
      },
      "source": [
        "model = Sequential()\n",
        "model.add(InputLayer(input_shape=[10]))\n",
        "model.add(MyDense(1))\n",
        "# model.add(Lambda())"
      ],
      "execution_count": 0,
      "outputs": []
    },
    {
      "cell_type": "code",
      "metadata": {
        "id": "cNVFLeJQnguQ",
        "colab_type": "code",
        "outputId": "b884da5d-87c4-4910-c4bb-f7fb4e8f877d",
        "colab": {
          "base_uri": "https://localhost:8080/",
          "height": 193
        }
      },
      "source": [
        "model.summary()"
      ],
      "execution_count": 0,
      "outputs": [
        {
          "output_type": "stream",
          "text": [
            "Model: \"sequential_6\"\n",
            "_________________________________________________________________\n",
            "Layer (type)                 Output Shape              Param #   \n",
            "=================================================================\n",
            "my_dense_6 (MyDense)         (None, 1)                 11        \n",
            "=================================================================\n",
            "Total params: 11\n",
            "Trainable params: 11\n",
            "Non-trainable params: 0\n",
            "_________________________________________________________________\n"
          ],
          "name": "stdout"
        }
      ]
    },
    {
      "cell_type": "code",
      "metadata": {
        "id": "DtbN9zW8nvAf",
        "colab_type": "code",
        "outputId": "b2bc2de1-d9ae-49cf-92d9-f605b92ea0b1",
        "colab": {
          "base_uri": "https://localhost:8080/",
          "height": 52
        }
      },
      "source": [
        "for var in model.trainable_variables:\n",
        "  print(var.name)"
      ],
      "execution_count": 0,
      "outputs": [
        {
          "output_type": "stream",
          "text": [
            "my_dense_6/w:0\n",
            "my_dense_6/b:0\n"
          ],
          "name": "stdout"
        }
      ]
    },
    {
      "cell_type": "code",
      "metadata": {
        "id": "2XL0nhbKokti",
        "colab_type": "code",
        "outputId": "17bc6511-d1f2-40b7-8bd9-2e3593fdd6ec",
        "colab": {
          "base_uri": "https://localhost:8080/",
          "height": 193
        }
      },
      "source": [
        "model.predict(tf.zeros(shape=[10,10]))"
      ],
      "execution_count": 0,
      "outputs": [
        {
          "output_type": "execute_result",
          "data": {
            "text/plain": [
              "array([[1.2385243],\n",
              "       [1.2385243],\n",
              "       [1.2385243],\n",
              "       [1.2385243],\n",
              "       [1.2385243],\n",
              "       [1.2385243],\n",
              "       [1.2385243],\n",
              "       [1.2385243],\n",
              "       [1.2385243],\n",
              "       [1.2385243]], dtype=float32)"
            ]
          },
          "metadata": {
            "tags": []
          },
          "execution_count": 31
        }
      ]
    }
  ]
}