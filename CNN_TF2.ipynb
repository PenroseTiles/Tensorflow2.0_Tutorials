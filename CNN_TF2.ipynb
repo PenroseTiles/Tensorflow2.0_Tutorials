{
  "nbformat": 4,
  "nbformat_minor": 0,
  "metadata": {
    "colab": {
      "name": "CNN TF2.ipynb",
      "provenance": [],
      "authorship_tag": "ABX9TyNzbQ1wMVScVcyAQN3eQarX",
      "include_colab_link": true
    },
    "kernelspec": {
      "name": "python3",
      "display_name": "Python 3"
    }
  },
  "cells": [
    {
      "cell_type": "markdown",
      "metadata": {
        "id": "view-in-github",
        "colab_type": "text"
      },
      "source": [
        "<a href=\"https://colab.research.google.com/github/PenroseTiles/Tensorflow2.0_Tutorials/blob/master/CNN_TF2.ipynb\" target=\"_parent\"><img src=\"https://colab.research.google.com/assets/colab-badge.svg\" alt=\"Open In Colab\"/></a>"
      ]
    },
    {
      "cell_type": "markdown",
      "metadata": {
        "id": "fGkag7WC6wVE",
        "colab_type": "text"
      },
      "source": [
        "# CNN for MNIST\n",
        "\n"
      ]
    },
    {
      "cell_type": "code",
      "metadata": {
        "id": "QJM20LXU6u3N",
        "colab_type": "code",
        "colab": {}
      },
      "source": [
        "import tensorflow as tf\n",
        "from tensorflow.keras import backend as K\n",
        "from tensorflow.keras import optimizers as optimizers\n",
        "from tensorflow.keras import losses as losses\n",
        "from tensorflow.keras import metrics as metrics\n",
        "from tensorflow.keras import utils as utils\n",
        "from tensorflow.keras import datasets as datasets\n",
        "from tensorflow.keras.layers import *\n",
        "from tensorflow.keras.models import *\n",
        "from tensorflow.keras.callbacks import * "
      ],
      "execution_count": 0,
      "outputs": []
    },
    {
      "cell_type": "code",
      "metadata": {
        "id": "hQI6jC2jDtOf",
        "colab_type": "code",
        "colab": {
          "base_uri": "https://localhost:8080/",
          "height": 35
        },
        "outputId": "9b4b3cb7-5f84-4b44-e71a-49872c7329bf"
      },
      "source": [
        "print(tf.__version__)"
      ],
      "execution_count": 2,
      "outputs": [
        {
          "output_type": "stream",
          "text": [
            "2.2.0-rc4\n"
          ],
          "name": "stdout"
        }
      ]
    },
    {
      "cell_type": "code",
      "metadata": {
        "id": "l_zJ5wAIDyyo",
        "colab_type": "code",
        "colab": {}
      },
      "source": [
        "def build_cnn()->Model:\n",
        "  model = Sequential()\n",
        "  model.add(Reshape(target_shape=[28,28,1], input_shape=[28,28]))\n",
        "  model.add(Conv2D(10, kernel_size=(5,5),padding='same'))\n",
        "  model.add(Conv2D(10, kernel_size=(7,7), padding='valid'))\n",
        "  model.add(MaxPool2D())\n",
        "  model.add(Reshape(target_shape=[1210]))\n",
        "  model.add(Dense(10))\n",
        "  model.add(Softmax())\n",
        "  return model"
      ],
      "execution_count": 0,
      "outputs": []
    },
    {
      "cell_type": "code",
      "metadata": {
        "id": "GvVjJYH6EDTG",
        "colab_type": "code",
        "colab": {}
      },
      "source": [
        "cnn = build_cnn()\n",
        "cnn.compile(optimizers.Adam(),\n",
        "            loss = losses.CategoricalCrossentropy(),\n",
        "            metrics=metrics.BinaryAccuracy())"
      ],
      "execution_count": 0,
      "outputs": []
    },
    {
      "cell_type": "code",
      "metadata": {
        "id": "h7M5j59ROXHr",
        "colab_type": "code",
        "colab": {
          "base_uri": "https://localhost:8080/",
          "height": 399
        },
        "outputId": "ed2f270f-9d46-4525-9beb-d03623a28b6f"
      },
      "source": [
        "cnn.summary()"
      ],
      "execution_count": 5,
      "outputs": [
        {
          "output_type": "stream",
          "text": [
            "Model: \"sequential\"\n",
            "_________________________________________________________________\n",
            "Layer (type)                 Output Shape              Param #   \n",
            "=================================================================\n",
            "reshape (Reshape)            (None, 28, 28, 1)         0         \n",
            "_________________________________________________________________\n",
            "conv2d (Conv2D)              (None, 28, 28, 10)        260       \n",
            "_________________________________________________________________\n",
            "conv2d_1 (Conv2D)            (None, 22, 22, 10)        4910      \n",
            "_________________________________________________________________\n",
            "max_pooling2d (MaxPooling2D) (None, 11, 11, 10)        0         \n",
            "_________________________________________________________________\n",
            "reshape_1 (Reshape)          (None, 1210)              0         \n",
            "_________________________________________________________________\n",
            "dense (Dense)                (None, 10)                12110     \n",
            "_________________________________________________________________\n",
            "softmax (Softmax)            (None, 10)                0         \n",
            "=================================================================\n",
            "Total params: 17,280\n",
            "Trainable params: 17,280\n",
            "Non-trainable params: 0\n",
            "_________________________________________________________________\n"
          ],
          "name": "stdout"
        }
      ]
    },
    {
      "cell_type": "code",
      "metadata": {
        "id": "PhFwgIS2Oka_",
        "colab_type": "code",
        "colab": {
          "base_uri": "https://localhost:8080/",
          "height": 758
        },
        "outputId": "d7464105-0952-40b7-dd05-c87c6897c63d"
      },
      "source": [
        "utils.plot_model(cnn)"
      ],
      "execution_count": 6,
      "outputs": [
        {
          "output_type": "execute_result",
          "data": {
            "image/png": "[encoded data removed]",
            "text/plain": [
              "<IPython.core.display.Image object>"
            ]
          },
          "metadata": {
            "tags": []
          },
          "execution_count": 6
        }
      ]
    },
    {
      "cell_type": "code",
      "metadata": {
        "id": "BaL1M7AczRnu",
        "colab_type": "code",
        "colab": {
          "base_uri": "https://localhost:8080/",
          "height": 52
        },
        "outputId": "af86f6f0-9922-444b-8312-7d3846b97b9c"
      },
      "source": [
        "mnist = datasets.mnist\n",
        "(x_train, y_train), (x_test, y_test) = mnist.load_data()\n",
        "x_train, x_test = x_train / 255.0, x_test / 255.0"
      ],
      "execution_count": 7,
      "outputs": [
        {
          "output_type": "stream",
          "text": [
            "Downloading data from https://storage.googleapis.com/tensorflow/tf-keras-datasets/mnist.npz\n",
            "11493376/11490434 [==============================] - 0s 0us/step\n"
          ],
          "name": "stdout"
        }
      ]
    },
    {
      "cell_type": "code",
      "metadata": {
        "id": "dxTYAU0SzVsh",
        "colab_type": "code",
        "colab": {}
      },
      "source": [
        "train_ds = tf.data.Dataset.from_tensor_slices((x_train, y_train)).shuffle(10000).batch(32)\n",
        "train_ds = train_ds.map(lambda x, y :(x, tf.one_hot(y,depth=10)))\n",
        "test_ds = tf.data.Dataset.from_tensor_slices((x_test, y_test)).shuffle(10000).batch(32)\n",
        "test_ds = test_ds.map(lambda x, y :(x, tf.one_hot(y,depth=10)))"
      ],
      "execution_count": 0,
      "outputs": []
    },
    {
      "cell_type": "code",
      "metadata": {
        "id": "USoJ1t_q0NPi",
        "colab_type": "code",
        "colab": {
          "base_uri": "https://localhost:8080/",
          "height": 419
        },
        "outputId": "bea9224e-6bda-472b-bfd1-1b7f4bdd20dd"
      },
      "source": [
        "tds = train_ds.as_numpy_iterator()\n",
        "print(tds.next()[1].shape)\n",
        "cnn.fit(train_ds, epochs=10)\n",
        "\n",
        "\n"
      ],
      "execution_count": 9,
      "outputs": [
        {
          "output_type": "stream",
          "text": [
            "(32, 10)\n",
            "Epoch 1/10\n",
            "1875/1875 [==============================] - 123s 66ms/step - loss: 0.2283 - binary_accuracy: 0.9871\n",
            "Epoch 2/10\n",
            "1875/1875 [==============================] - 123s 65ms/step - loss: 0.0977 - binary_accuracy: 0.9943\n",
            "Epoch 3/10\n",
            "1875/1875 [==============================] - 123s 66ms/step - loss: 0.0784 - binary_accuracy: 0.9953\n",
            "Epoch 4/10\n",
            "1875/1875 [==============================] - 123s 65ms/step - loss: 0.0669 - binary_accuracy: 0.9960\n",
            "Epoch 5/10\n",
            "1875/1875 [==============================] - 123s 66ms/step - loss: 0.0585 - binary_accuracy: 0.9964\n",
            "Epoch 6/10\n",
            "1875/1875 [==============================] - 123s 65ms/step - loss: 0.0534 - binary_accuracy: 0.9967\n",
            "Epoch 7/10\n",
            "1875/1875 [==============================] - 123s 66ms/step - loss: 0.0488 - binary_accuracy: 0.9969\n",
            "Epoch 8/10\n",
            "1875/1875 [==============================] - 124s 66ms/step - loss: 0.0455 - binary_accuracy: 0.9971\n",
            "Epoch 9/10\n",
            "1875/1875 [==============================] - 124s 66ms/step - loss: 0.0429 - binary_accuracy: 0.9972\n",
            "Epoch 10/10\n",
            "1875/1875 [==============================] - 125s 67ms/step - loss: 0.0405 - binary_accuracy: 0.9973\n"
          ],
          "name": "stdout"
        },
        {
          "output_type": "execute_result",
          "data": {
            "text/plain": [
              "<tensorflow.python.keras.callbacks.History at 0x7f147d38dcc0>"
            ]
          },
          "metadata": {
            "tags": []
          },
          "execution_count": 9
        }
      ]
    },
    {
      "cell_type": "code",
      "metadata": {
        "id": "1ey9_w_cnzGM",
        "colab_type": "code",
        "colab": {
          "base_uri": "https://localhost:8080/",
          "height": 52
        },
        "outputId": "c595bd16-199b-4f4c-dced-6f166e07d574"
      },
      "source": [
        "cnn.evaluate(x_test, tf.one_hot(y_test,depth=10))"
      ],
      "execution_count": 11,
      "outputs": [
        {
          "output_type": "stream",
          "text": [
            "313/313 [==============================] - 6s 18ms/step - loss: 0.0685 - binary_accuracy: 0.9962\n"
          ],
          "name": "stdout"
        },
        {
          "output_type": "execute_result",
          "data": {
            "text/plain": [
              "[0.06850264966487885, 0.9962197542190552]"
            ]
          },
          "metadata": {
            "tags": []
          },
          "execution_count": 11
        }
      ]
    }
  ]
}