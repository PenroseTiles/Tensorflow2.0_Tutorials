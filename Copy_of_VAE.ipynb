{
  "nbformat": 4,
  "nbformat_minor": 0,
  "metadata": {
    "colab": {
      "name": "Copy of VAE.ipynb",
      "provenance": [],
      "authorship_tag": "ABX9TyNIcoFhII7YFRvUPGCz4DhL",
      "include_colab_link": true
    },
    "kernelspec": {
      "name": "python3",
      "display_name": "Python 3"
    }
  },
  "cells": [
    {
      "cell_type": "markdown",
      "metadata": {
        "id": "view-in-github",
        "colab_type": "text"
      },
      "source": [
        "<a href=\"https://colab.research.google.com/github/PenroseTiles/Tensorflow2.0_Tutorials/blob/master/Copy_of_VAE.ipynb\" target=\"_parent\"><img src=\"https://colab.research.google.com/assets/colab-badge.svg\" alt=\"Open In Colab\"/></a>"
      ]
    },
    {
      "cell_type": "code",
      "metadata": {
        "id": "HGSEOxG4rCjr",
        "colab_type": "code",
        "outputId": "cd2080b1-c6d9-4c4e-e36e-26ac2d391f14",
        "colab": {
          "base_uri": "https://localhost:8080/",
          "height": 35
        }
      },
      "source": [
        "from sklearn.datasets import fetch_openml\n",
        "mnist = fetch_openml('mnist_784', version=1, cache=True)\n",
        "X = mnist.data\n"
      ],
      "execution_count": 0,
      "outputs": [
        {
          "output_type": "execute_result",
          "data": {
            "text/plain": [
              "sklearn.utils.Bunch"
            ]
          },
          "metadata": {
            "tags": []
          },
          "execution_count": 22
        }
      ]
    },
    {
      "cell_type": "code",
      "metadata": {
        "id": "7eotF0Gbxwre",
        "colab_type": "code",
        "outputId": "29958a93-68ca-441b-987d-ab12d8647aca",
        "colab": {
          "base_uri": "https://localhost:8080/",
          "height": 52
        }
      },
      "source": [
        "from tensorflow import keras\n",
        "(x_train, y_train), (x_test, y_test) = keras.datasets.mnist.load_data()"
      ],
      "execution_count": 0,
      "outputs": [
        {
          "output_type": "stream",
          "text": [
            "Downloading data from https://storage.googleapis.com/tensorflow/tf-keras-datasets/mnist.npz\n",
            "11493376/11490434 [==============================] - 0s 0us/step\n"
          ],
          "name": "stdout"
        }
      ]
    },
    {
      "cell_type": "code",
      "metadata": {
        "id": "E58mX-guyDfm",
        "colab_type": "code",
        "colab": {}
      },
      "source": [
        ""
      ],
      "execution_count": 0,
      "outputs": []
    },
    {
      "cell_type": "code",
      "metadata": {
        "id": "MOQ3mln_rZPj",
        "colab_type": "code",
        "colab": {}
      },
      "source": [
        "from cvae import cvae"
      ],
      "execution_count": 0,
      "outputs": []
    },
    {
      "cell_type": "code",
      "metadata": {
        "id": "-KT6sI8ircEQ",
        "colab_type": "code",
        "outputId": "e3310098-3e60-4fe2-e150-0f6424721759",
        "colab": {
          "base_uri": "https://localhost:8080/",
          "height": 243
        }
      },
      "source": [
        "vae = cvae.CompressionVAE(X, dim_latent=3)"
      ],
      "execution_count": 0,
      "outputs": [
        {
          "output_type": "stream",
          "text": [
            "Total amount of data:  63000\n",
            "Input feature dimension:  784\n",
            "Calculating normalisation factors.\n",
            "Normalisation factors calculated.\n",
            "Total amount of data:  7000\n",
            "Creating model.\n",
            "Model created.\n",
            "Setting up loss.\n",
            "Loss set up.\n",
            "Setting up session.\n",
            "Session set up.\n",
            "Trying to restore saved checkpoints from /content/temp ... No checkpoint found.\n",
            "No model found to restore. Initialising new model.\n"
          ],
          "name": "stdout"
        }
      ]
    },
    {
      "cell_type": "code",
      "metadata": {
        "id": "26aVjqulrwDW",
        "colab_type": "code",
        "outputId": "136fa86e-076a-49bb-e973-5d6071a33687",
        "colab": {
          "base_uri": "https://localhost:8080/",
          "height": 659
        }
      },
      "source": [
        "vae.train()"
      ],
      "execution_count": 0,
      "outputs": [
        {
          "output_type": "stream",
          "text": [
            "step 6450; epoch 6.55 - loss = 564.441, test_loss = 240.510, lr = 0.00100, (0.023 sec/step)\n",
            "step 6500; epoch 6.60 - loss = 193.700, test_loss = 240.489, lr = 0.00100, (0.023 sec/step)\n",
            "step 6550; epoch 6.65 - loss = 242.993, test_loss = 239.629, lr = 0.00100, (0.023 sec/step)\n",
            "step 6600; epoch 6.70 - loss = 163.416, test_loss = 240.246, lr = 0.00100, (0.022 sec/step)\n",
            "step 6650; epoch 6.76 - loss = 212.626, test_loss = 242.324, lr = 0.00100, (0.023 sec/step)\n",
            "step 6700; epoch 6.81 - loss = 188.941, test_loss = 241.455, lr = 0.00100, (0.023 sec/step)\n",
            "step 6750; epoch 6.86 - loss = 220.161, test_loss = 241.517, lr = 0.00100, (0.024 sec/step)\n",
            "No improvement on validation data for 5 test steps. Decreasing learning rate by factor 5\n",
            "step 6800; epoch 6.91 - loss = 355.008, test_loss = 239.466, lr = 0.00020, (0.023 sec/step)\n",
            "step 6850; epoch 6.96 - loss = 193.448, test_loss = 238.439, lr = 0.00020, (0.024 sec/step)\n",
            "step 6900; epoch 7.01 - loss = 167.414, test_loss = 238.813, lr = 0.00020, (0.023 sec/step)\n",
            "step 6950; epoch 7.06 - loss = 204.531, test_loss = 237.918, lr = 0.00020, (0.023 sec/step)\n",
            "step 7000; epoch 7.11 - loss = 281.233, test_loss = 238.045, lr = 0.00020, (0.023 sec/step)\n",
            "step 7050; epoch 7.16 - loss = 232.781, test_loss = 238.445, lr = 0.00020, (0.023 sec/step)\n",
            "step 7100; epoch 7.21 - loss = 226.467, test_loss = 238.213, lr = 0.00020, (0.023 sec/step)\n",
            "step 7150; epoch 7.26 - loss = 866.051, test_loss = 237.504, lr = 0.00020, (0.023 sec/step)\n",
            "step 7200; epoch 7.31 - loss = 256.203, test_loss = 237.614, lr = 0.00020, (0.024 sec/step)\n",
            "step 7250; epoch 7.37 - loss = 299.426, test_loss = 238.198, lr = 0.00020, (0.023 sec/step)\n",
            "step 7300; epoch 7.42 - loss = 234.860, test_loss = 237.178, lr = 0.00020, (0.023 sec/step)\n",
            "step 7350; epoch 7.47 - loss = 340.437, test_loss = 237.758, lr = 0.00020, (0.024 sec/step)\n",
            "step 7400; epoch 7.52 - loss = 203.487, test_loss = 237.439, lr = 0.00020, (0.023 sec/step)\n",
            "step 7450; epoch 7.57 - loss = 175.795, test_loss = 236.524, lr = 0.00020, (0.023 sec/step)\n",
            "step 7500; epoch 7.62 - loss = 155.298, test_loss = 237.332, lr = 0.00020, (0.023 sec/step)\n",
            "step 7550; epoch 7.67 - loss = 168.452, test_loss = 236.826, lr = 0.00020, (0.024 sec/step)\n",
            "step 7600; epoch 7.72 - loss = 232.504, test_loss = 236.721, lr = 0.00020, (0.024 sec/step)\n",
            "step 7650; epoch 7.77 - loss = 163.324, test_loss = 236.704, lr = 0.00020, (0.024 sec/step)\n",
            "No improvement on validation data for 5 test steps. Decreasing learning rate by factor 5\n",
            "step 7700; epoch 7.82 - loss = 204.112, test_loss = 236.665, lr = 0.00004, (0.026 sec/step)\n",
            "step 7750; epoch 7.87 - loss = 182.858, test_loss = 236.600, lr = 0.00004, (0.025 sec/step)\n",
            "step 7800; epoch 7.92 - loss = 458.648, test_loss = 236.777, lr = 0.00004, (0.025 sec/step)\n",
            "step 7850; epoch 7.97 - loss = 182.042, test_loss = 236.810, lr = 0.00004, (0.024 sec/step)\n",
            "step 7900; epoch 8.03 - loss = 300.141, test_loss = 236.938, lr = 0.00004, (0.024 sec/step)\n",
            "step 7950; epoch 8.08 - loss = 216.242, test_loss = 236.796, lr = 0.00004, (0.025 sec/step)\n",
            "No improvement on validation data for 5 test steps. Decreasing learning rate by factor 5\n",
            "Reached learning rate threshold of 1e-05. Stopping.\n",
            "Storing checkpoint to /content/temp ... Done.\n"
          ],
          "name": "stdout"
        },
        {
          "output_type": "execute_result",
          "data": {
            "text/plain": [
              "<cvae.cvae.CompressionVAE at 0x7f6a4baca5f8>"
            ]
          },
          "metadata": {
            "tags": []
          },
          "execution_count": 10
        }
      ]
    },
    {
      "cell_type": "code",
      "metadata": {
        "id": "oLRJBTjvuKIt",
        "colab_type": "code",
        "colab": {}
      },
      "source": [
        ""
      ],
      "execution_count": 0,
      "outputs": []
    },
    {
      "cell_type": "code",
      "metadata": {
        "id": "Fxmuvxeevqag",
        "colab_type": "code",
        "colab": {}
      },
      "source": [
        "projected = vae.embed(X)"
      ],
      "execution_count": 0,
      "outputs": []
    },
    {
      "cell_type": "code",
      "metadata": {
        "id": "JZT0IZg9v6UM",
        "colab_type": "code",
        "colab": {}
      },
      "source": [
        "projected.shape\n",
        "import matplotlib.pyplot as plt\n",
        "from mpl_toolkits import mplot3d\n",
        "import matplotlib\n",
        "import plotly\n",
        "import numpy as np\n"
      ],
      "execution_count": 0,
      "outputs": []
    },
    {
      "cell_type": "code",
      "metadata": {
        "id": "1W0TcTcov8_k",
        "colab_type": "code",
        "outputId": "d769cc59-6ab9-46ea-cbef-189b7c6f4e10",
        "colab": {
          "base_uri": "https://localhost:8080/",
          "height": 248
        }
      },
      "source": [
        "#plotting\n",
        "fid = plt.figure()\n",
        "ax = plt.axes(projection='3d')\n",
        "\n",
        "# Data for three-dimensional scattered points\n",
        "zdata = projected[:100,-1]\n",
        "xdata = projected[:100,-3]\n",
        "ydata = projected[:100,-2]\n",
        "colors = ['black','brown','purple','violet','indigo','blue','green','yellow','orange','red']\n",
        "ax.scatter3D(xdata, ydata, zdata, c=y_train[:100], cmap=matplotlib.colors.ListedColormap(colors));"
      ],
      "execution_count": 0,
      "outputs": [
        {
          "output_type": "display_data",
          "data": {
            "image/png": "[encoded data removed]",
            "text/plain": [
              "<Figure size 432x288 with 1 Axes>"
            ]
          },
          "metadata": {
            "tags": [],
            "needs_background": "light"
          }
        }
      ]
    },
    {
      "cell_type": "code",
      "metadata": {
        "id": "pXQPr7SiwNzA",
        "colab_type": "code",
        "colab": {}
      },
      "source": [
        "def pairwise_distance(x, proj):\n",
        "  num_examples = min(5000,x.shape[0])\n",
        "  total_dist = 0.\n",
        "  for i in range(num_examples):\n",
        "    for j in range(i):\n",
        "      total_dist += np.sum((x[i,:] - x[j,:])**2) - np.sum((proj[i,:] - proj[j,:])**2)\n",
        "  return total_dist/(num_examples**2)"
      ],
      "execution_count": 0,
      "outputs": []
    },
    {
      "cell_type": "code",
      "metadata": {
        "id": "Una50qioyPCF",
        "colab_type": "code",
        "outputId": "e81075ba-bed1-4734-ee88-176c1a6e073f",
        "colab": {
          "base_uri": "https://localhost:8080/",
          "height": 35
        }
      },
      "source": [
        "pairwise_distance(x_train, projected)"
      ],
      "execution_count": 0,
      "outputs": [
        {
          "output_type": "execute_result",
          "data": {
            "text/plain": [
              "8798.456635657525"
            ]
          },
          "metadata": {
            "tags": []
          },
          "execution_count": 31
        }
      ]
    },
    {
      "cell_type": "code",
      "metadata": {
        "id": "u8_TOC_NyRcG",
        "colab_type": "code",
        "colab": {}
      },
      "source": [
        ""
      ],
      "execution_count": 0,
      "outputs": []
    }
  ]
}