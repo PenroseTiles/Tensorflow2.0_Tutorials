{
  "nbformat": 4,
  "nbformat_minor": 0,
  "metadata": {
    "colab": {
      "name": "PML final.ipynb",
      "provenance": [],
      "authorship_tag": "ABX9TyNOQ78JS30VuT3N9VLZlyaW",
      "include_colab_link": true
    },
    "kernelspec": {
      "name": "python3",
      "display_name": "Python 3"
    }
  },
  "cells": [
    {
      "cell_type": "markdown",
      "metadata": {
        "id": "view-in-github",
        "colab_type": "text"
      },
      "source": [
        "<a href=\"https://colab.research.google.com/github/PenroseTiles/Tensorflow2.0_Tutorials/blob/master/PML_final.ipynb\" target=\"_parent\"><img src=\"https://colab.research.google.com/assets/colab-badge.svg\" alt=\"Open In Colab\"/></a>"
      ]
    },
    {
      "cell_type": "code",
      "metadata": {
        "id": "Dv8BKbMTUk9W",
        "colab_type": "code",
        "colab": {
          "base_uri": "https://localhost:8080/",
          "height": 52
        },
        "outputId": "ab2eac83-9d54-4d16-b07b-3a37e8338fbc"
      },
      "source": [
        "import numpy as np\n",
        "try:\n",
        "  %tensorflow_version 2.x\n",
        "except Exception:\n",
        "  exit(0)\n",
        "\n",
        "import tensorflow as tf\n",
        "from tensorflow import keras\n",
        "from typing import List, Dict, Callable\n",
        "%matplotlib inline\n",
        "import matplotlib.pyplot as plt\n",
        "from mpl_toolkits import mplot3d\n",
        "import matplotlib\n",
        "\n",
        "mnist = keras.datasets.mnist\n",
        "(x_train, y_train), (x_test, y_test) = mnist.load_data()\n",
        "x_train, x_test = x_train / 255.0, x_test / 255.0\n",
        "import plotly\n"
      ],
      "execution_count": 4,
      "outputs": [
        {
          "output_type": "stream",
          "text": [
            "Downloading data from https://storage.googleapis.com/tensorflow/tf-keras-datasets/mnist.npz\n",
            "11493376/11490434 [==============================] - 0s 0us/step\n"
          ],
          "name": "stdout"
        }
      ]
    },
    {
      "cell_type": "code",
      "metadata": {
        "id": "yBH98vmJi9Yo",
        "colab_type": "code",
        "colab": {
          "base_uri": "https://localhost:8080/",
          "height": 35
        },
        "outputId": "9537781d-8f66-4d77-f6f6-aac377e466e8"
      },
      "source": [
        "x_train.shape"
      ],
      "execution_count": 5,
      "outputs": [
        {
          "output_type": "execute_result",
          "data": {
            "text/plain": [
              "(60000, 28, 28)"
            ]
          },
          "metadata": {
            "tags": []
          },
          "execution_count": 5
        }
      ]
    },
    {
      "cell_type": "code",
      "metadata": {
        "id": "h3B1vKIMkd3e",
        "colab_type": "code",
        "colab": {}
      },
      "source": [
        "def flatten_dataset(data: np.array) ->np.array:\n",
        "  return data.reshape(data.shape[0],-1)\n",
        "\n",
        "x_train = flatten_dataset(x_train)\n",
        "x_test = flatten_dataset(x_test)"
      ],
      "execution_count": 0,
      "outputs": []
    },
    {
      "cell_type": "code",
      "metadata": {
        "id": "cMhuhQiwkrHF",
        "colab_type": "code",
        "colab": {
          "base_uri": "https://localhost:8080/",
          "height": 35
        },
        "outputId": "dbae5aa0-7990-40d2-9a81-a591c3a07675"
      },
      "source": [
        "x_train.shape"
      ],
      "execution_count": 7,
      "outputs": [
        {
          "output_type": "execute_result",
          "data": {
            "text/plain": [
              "(60000, 784)"
            ]
          },
          "metadata": {
            "tags": []
          },
          "execution_count": 7
        }
      ]
    },
    {
      "cell_type": "code",
      "metadata": {
        "id": "fcnYbxk-wvTx",
        "colab_type": "code",
        "colab": {}
      },
      "source": [
        "def normalize(x_train, x_test):\n",
        "  mean = np.mean(x_train, axis=0)\n",
        "  x_train = x_train - mean\n",
        "  x_test = x_test- mean \n",
        "  return x_train, x_test"
      ],
      "execution_count": 0,
      "outputs": []
    },
    {
      "cell_type": "code",
      "metadata": {
        "id": "Sgx84dnZzuvr",
        "colab_type": "code",
        "colab": {}
      },
      "source": [
        "#normalize to have zero mean\n",
        "x_train, x_test = normalize(x_train, x_test)"
      ],
      "execution_count": 0,
      "outputs": []
    },
    {
      "cell_type": "code",
      "metadata": {
        "id": "Xo8gd2nkzvwX",
        "colab_type": "code",
        "colab": {}
      },
      "source": [
        "#A = X^T X\n",
        "A = np.dot(x_train.T, x_train)"
      ],
      "execution_count": 0,
      "outputs": []
    },
    {
      "cell_type": "code",
      "metadata": {
        "id": "xVaQ4BDB0KWF",
        "colab_type": "code",
        "colab": {
          "base_uri": "https://localhost:8080/",
          "height": 35
        },
        "outputId": "8550fdc4-d920-4502-d555-2d68e25abde5"
      },
      "source": [
        "#CHECK THAT A IS SYMMETRIC\n",
        "np.all(A==A.T)"
      ],
      "execution_count": 11,
      "outputs": [
        {
          "output_type": "execute_result",
          "data": {
            "text/plain": [
              "True"
            ]
          },
          "metadata": {
            "tags": []
          },
          "execution_count": 11
        }
      ]
    },
    {
      "cell_type": "code",
      "metadata": {
        "id": "lTFKtZjP0lAJ",
        "colab_type": "code",
        "colab": {}
      },
      "source": [
        "#find eigenvectors and eigenvalues of a symmetric matrix\n",
        "vals, vecs = np.linalg.eigh(A)"
      ],
      "execution_count": 0,
      "outputs": []
    },
    {
      "cell_type": "code",
      "metadata": {
        "id": "Hnq4z7814VQf",
        "colab_type": "code",
        "colab": {
          "base_uri": "https://localhost:8080/",
          "height": 35
        },
        "outputId": "92fb80f9-8380-4223-af7f-25923b46d9bd"
      },
      "source": [
        "#Eigenvalues are already sorted\n",
        "np.all(np.sort(vals)==vals)"
      ],
      "execution_count": 13,
      "outputs": [
        {
          "output_type": "execute_result",
          "data": {
            "text/plain": [
              "True"
            ]
          },
          "metadata": {
            "tags": []
          },
          "execution_count": 13
        }
      ]
    },
    {
      "cell_type": "code",
      "metadata": {
        "id": "K_u2_Upk4as_",
        "colab_type": "code",
        "colab": {}
      },
      "source": [
        "#select the 3 eigenvectors with largest eigenvalues\n",
        "principal = vecs[:,-3:]"
      ],
      "execution_count": 0,
      "outputs": []
    },
    {
      "cell_type": "code",
      "metadata": {
        "id": "YXlULt0-4sX7",
        "colab_type": "code",
        "colab": {}
      },
      "source": [
        "#project the (normalized) training dataset onto this space\n",
        "projected = np.dot(x_train, vecs)"
      ],
      "execution_count": 0,
      "outputs": []
    },
    {
      "cell_type": "code",
      "metadata": {
        "id": "Ki8gs5097I3k",
        "colab_type": "code",
        "colab": {
          "base_uri": "https://localhost:8080/",
          "height": 248
        },
        "outputId": "9c106fc9-b0c0-4d33-9849-7f328e64c4b2"
      },
      "source": [
        "#plotting\n",
        "fid = plt.figure()\n",
        "ax = plt.axes(projection='3d')\n",
        "\n",
        "# Data for three-dimensional scattered points\n",
        "zdata = projected[:100,-1]\n",
        "xdata = projected[:100,-3]\n",
        "ydata = projected[:100,-2]\n",
        "colors = ['black','brown','purple','violet','indigo','blue','green','yellow','orange','red']\n",
        "ax.scatter3D(xdata, ydata, zdata, c=y_train[:100], cmap=matplotlib.colors.ListedColormap(colors));"
      ],
      "execution_count": 36,
      "outputs": [
        {
          "output_type": "display_data",
          "data": {
            "image/png": "[encoded data removed]",
            "text/plain": [
              "<Figure size 432x288 with 1 Axes>"
            ]
          },
          "metadata": {
            "tags": [],
            "needs_background": "light"
          }
        }
      ]
    },
    {
      "cell_type": "code",
      "metadata": {
        "id": "raqTMnTvDh_p",
        "colab_type": "code",
        "colab": {}
      },
      "source": [
        "def pairwise_distance(x, proj):\n",
        "  num_examples = min(5000,x.shape[0])\n",
        "  total_dist = 0.\n",
        "  for i in range(num_examples):\n",
        "    for j in range(i):\n",
        "      total_dist += np.sum((x[i,:] - x[j,:])**2) - np.sum((proj[i,:] - proj[j,:])**2)\n",
        "  return total_dist/(num_examples**2)"
      ],
      "execution_count": 0,
      "outputs": []
    },
    {
      "cell_type": "code",
      "metadata": {
        "id": "dYFCL-8DLUrS",
        "colab_type": "code",
        "colab": {
          "base_uri": "https://localhost:8080/",
          "height": 35
        },
        "outputId": "282fdcdb-7093-4e26-bfb7-f0b1a89cdbcd"
      },
      "source": [
        "pairwise_distance(x_train, projected)"
      ],
      "execution_count": 42,
      "outputs": [
        {
          "output_type": "execute_result",
          "data": {
            "text/plain": [
              "6.485845833736903e-15"
            ]
          },
          "metadata": {
            "tags": []
          },
          "execution_count": 42
        }
      ]
    },
    {
      "cell_type": "code",
      "metadata": {
        "id": "MQIBzw6sGsUy",
        "colab_type": "code",
        "colab": {
          "base_uri": "https://localhost:8080/",
          "height": 35
        },
        "outputId": "24419c97-0039-4f30-9e6b-a0d5d2d4e93c"
      },
      "source": [
        "pairwise_distance(x_train)"
      ],
      "execution_count": 33,
      "outputs": [
        {
          "output_type": "execute_result",
          "data": {
            "text/plain": [
              "65.3694947167069"
            ]
          },
          "metadata": {
            "tags": []
          },
          "execution_count": 33
        }
      ]
    },
    {
      "cell_type": "code",
      "metadata": {
        "id": "-8urAQ68KupB",
        "colab_type": "code",
        "colab": {}
      },
      "source": [
        ""
      ],
      "execution_count": 0,
      "outputs": []
    },
    {
      "cell_type": "markdown",
      "metadata": {
        "id": "hQWsmNuTqI__",
        "colab_type": "text"
      },
      "source": [
        "VAE"
      ]
    }
  ]
}