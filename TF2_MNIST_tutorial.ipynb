{
  "nbformat": 4,
  "nbformat_minor": 0,
  "metadata": {
    "colab": {
      "name": "TF2_MNIST_tutorial.ipynb",
      "provenance": [],
      "toc_visible": true,
      "authorship_tag": "ABX9TyNKGtWxpMzyXtXi9G6nB3Ti",
      "include_colab_link": true
    },
    "kernelspec": {
      "name": "python3",
      "display_name": "Python 3"
    }
  },
  "cells": [
    {
      "cell_type": "markdown",
      "metadata": {
        "id": "view-in-github",
        "colab_type": "text"
      },
      "source": [
        "<a href=\"https://colab.research.google.com/github/PenroseTiles/Tensorflow2.0_Tutorials/blob/master/TF2_MNIST_tutorial.ipynb\" target=\"_parent\"><img src=\"https://colab.research.google.com/assets/colab-badge.svg\" alt=\"Open In Colab\"/></a>"
      ]
    },
    {
      "cell_type": "markdown",
      "metadata": {
        "id": "SWCX0GOImSD8",
        "colab_type": "text"
      },
      "source": [
        "Heavily borrowed from tensorflow.org"
      ]
    },
    {
      "cell_type": "code",
      "metadata": {
        "id": "F215t-rXmbQH",
        "colab_type": "code",
        "colab": {
          "base_uri": "https://localhost:8080/",
          "height": 34
        },
        "outputId": "c182ac55-e4ee-46cf-edf6-838f8d8f6103"
      },
      "source": [
        "try:\n",
        "  %tensorflow_version 2.x\n",
        "except Exception:\n",
        "  pass\n",
        "import numpy as np\n",
        "import tensorflow as tf\n",
        "from tensorflow import keras"
      ],
      "execution_count": 1,
      "outputs": [
        {
          "output_type": "stream",
          "text": [
            "TensorFlow 2.x selected.\n"
          ],
          "name": "stdout"
        }
      ]
    },
    {
      "cell_type": "code",
      "metadata": {
        "id": "XfM_Fmyetcs7",
        "colab_type": "code",
        "colab": {}
      },
      "source": [
        "import typing"
      ],
      "execution_count": 0,
      "outputs": []
    },
    {
      "cell_type": "code",
      "metadata": {
        "colab_type": "code",
        "id": "0trJmd6DjqBZ",
        "colab": {}
      },
      "source": [
        "from __future__ import absolute_import, division, print_function, unicode_literals\n",
        "from tensorflow.keras.layers import Dense, Flatten, Conv2D, Reshape\n",
        "from tensorflow.keras import Model, Input"
      ],
      "execution_count": 0,
      "outputs": []
    },
    {
      "cell_type": "markdown",
      "metadata": {
        "id": "_Y8dUCwDdy0X",
        "colab_type": "text"
      },
      "source": [
        "Testing eager execution, vetarans who worked with TF 1.x will know the pain of debugging without this"
      ]
    },
    {
      "cell_type": "code",
      "metadata": {
        "id": "9iDsNQbuWLGD",
        "colab_type": "code",
        "colab": {}
      },
      "source": [
        "a = tf.constant(2.0)\n",
        "b = tf.constant(3.0)\n",
        "c = a+b"
      ],
      "execution_count": 0,
      "outputs": []
    },
    {
      "cell_type": "code",
      "metadata": {
        "id": "8uP8ybTNXcae",
        "colab_type": "code",
        "outputId": "8bba498d-c2e9-486e-b292-c7f8473e48b7",
        "colab": {
          "base_uri": "https://localhost:8080/",
          "height": 34
        }
      },
      "source": [
        "c.numpy()"
      ],
      "execution_count": 5,
      "outputs": [
        {
          "output_type": "execute_result",
          "data": {
            "text/plain": [
              "5.0"
            ]
          },
          "metadata": {
            "tags": []
          },
          "execution_count": 5
        }
      ]
    },
    {
      "cell_type": "markdown",
      "metadata": {
        "id": "y8axuTFperuV",
        "colab_type": "text"
      },
      "source": [
        "#Load the dataset"
      ]
    },
    {
      "cell_type": "code",
      "metadata": {
        "id": "SDJUcZbGXgLO",
        "colab_type": "code",
        "colab": {}
      },
      "source": [
        "mnist = keras.datasets.mnist"
      ],
      "execution_count": 0,
      "outputs": []
    },
    {
      "cell_type": "code",
      "metadata": {
        "id": "DkDVfkVyaQqQ",
        "colab_type": "code",
        "colab": {}
      },
      "source": [
        "(x_train, y_train), (x_test, y_test) = mnist.load_data()\n",
        "x_train, x_test = x_train / 255.0, x_test / 255.0"
      ],
      "execution_count": 0,
      "outputs": []
    },
    {
      "cell_type": "markdown",
      "metadata": {
        "id": "nxqRQz10fLyc",
        "colab_type": "text"
      },
      "source": [
        "By using ellipsis, I avoid stating exactly the number of dimensions of the Tensor x_train, I just want to add a dimension to the tensor, regardless of how many dimensions it has"
      ]
    },
    {
      "cell_type": "code",
      "metadata": {
        "id": "KiyfsTp8e9f1",
        "colab_type": "code",
        "colab": {}
      },
      "source": [
        "# x_train = x_train[..., tf.newaxis]\n",
        "# x_test = x_test[..., tf.newaxis]"
      ],
      "execution_count": 0,
      "outputs": []
    },
    {
      "cell_type": "markdown",
      "metadata": {
        "id": "bEXXlfUbkt5a",
        "colab_type": "text"
      },
      "source": [
        "# Playing with *tf.Dataset*"
      ]
    },
    {
      "cell_type": "code",
      "metadata": {
        "id": "CPa_K9bNkuXw",
        "colab_type": "code",
        "outputId": "e16075ee-8850-4d7e-d3cb-12db3369aa3d",
        "colab": {
          "base_uri": "https://localhost:8080/",
          "height": 170
        }
      },
      "source": [
        "data = tf.data.Dataset.from_tensor_slices(tf.range(8))\n",
        "it = iter(data)\n",
        "print(next(it).numpy())\n",
        "\n",
        "for i in data:\n",
        "  print(i.numpy())"
      ],
      "execution_count": 9,
      "outputs": [
        {
          "output_type": "stream",
          "text": [
            "0\n",
            "0\n",
            "1\n",
            "2\n",
            "3\n",
            "4\n",
            "5\n",
            "6\n",
            "7\n"
          ],
          "name": "stdout"
        }
      ]
    },
    {
      "cell_type": "markdown",
      "metadata": {
        "id": "Chy71JIqtSuc",
        "colab_type": "text"
      },
      "source": [
        "Map and Reduce"
      ]
    },
    {
      "cell_type": "code",
      "metadata": {
        "id": "deVrZ7FKfJYi",
        "colab_type": "code",
        "outputId": "19c55d8c-09d9-4e2c-a745-5549c55b5e58",
        "colab": {
          "base_uri": "https://localhost:8080/",
          "height": 153
        }
      },
      "source": [
        "@tf.function\n",
        "def sum_data(data):\n",
        "  return data.reduce(0, lambda state, value : state + value)\n",
        "\n",
        "@tf.function\n",
        "def transform_data(data: tf.data.Dataset):\n",
        "  return data.map(lambda x : x+ 1)\n",
        "\n",
        "sum_data(data).numpy()\n",
        "mapped = transform_data(data) #\n",
        "\n",
        "'''\n",
        "mapped.numpy() will not work because mapped is an iterable, like every Dataset object\n",
        "But if I can't call numpy() on Datasets, how do I convert them to non-tensor form? \n",
        "You can call as_numpy_iterator() on it, it basically does what we do below: \n",
        "'''\n",
        "for item in mapped:\n",
        "  print(item.numpy())"
      ],
      "execution_count": 10,
      "outputs": [
        {
          "output_type": "stream",
          "text": [
            "1\n",
            "2\n",
            "3\n",
            "4\n",
            "5\n",
            "6\n",
            "7\n",
            "8\n"
          ],
          "name": "stdout"
        }
      ]
    },
    {
      "cell_type": "code",
      "metadata": {
        "id": "2BHRrMT_u0k7",
        "colab_type": "code",
        "colab": {}
      },
      "source": [
        "mn = tf.data.Dataset.from_tensor_slices((x_train, y_train)).batch(2)\n",
        "# mnist_y = tf.data.Dataset.from_tensor_slices(y_train)\n",
        "# mnist = tf.data.Dataset.zip((mnist_data_x, mnist_data_y))\n",
        "# mnist = mnist_x\n",
        "\n",
        "\n"
      ],
      "execution_count": 0,
      "outputs": []
    },
    {
      "cell_type": "code",
      "metadata": {
        "id": "QJwUIVIN1Ve9",
        "colab_type": "code",
        "outputId": "8fc02179-8e42-464f-cd40-fe5ea2f8167c",
        "colab": {
          "base_uri": "https://localhost:8080/",
          "height": 34
        }
      },
      "source": [
        "for image, label in mn:\n",
        "  print(image.numpy().shape)\n",
        "  break"
      ],
      "execution_count": 12,
      "outputs": [
        {
          "output_type": "stream",
          "text": [
            "(2, 28, 28)\n"
          ],
          "name": "stdout"
        }
      ]
    },
    {
      "cell_type": "code",
      "metadata": {
        "id": "5TV6rwMe4pYu",
        "colab_type": "code",
        "colab": {}
      },
      "source": [
        "train_ds = tf.data.Dataset.from_tensor_slices((x_train, y_train)).shuffle(10000).batch(32)\n",
        "\n",
        "test_ds = tf.data.Dataset.from_tensor_slices((x_test, y_test)).batch(32)\n"
      ],
      "execution_count": 0,
      "outputs": []
    },
    {
      "cell_type": "code",
      "metadata": {
        "id": "fkHJXPe35MVU",
        "colab_type": "code",
        "outputId": "bdd0275e-c7e4-43a7-8c57-7a534f4874d6",
        "colab": {
          "base_uri": "https://localhost:8080/",
          "height": 34
        }
      },
      "source": [
        "for images, labels in train_ds:\n",
        "    print(images.numpy().shape)\n",
        "    break"
      ],
      "execution_count": 14,
      "outputs": [
        {
          "output_type": "stream",
          "text": [
            "(32, 28, 28)\n"
          ],
          "name": "stdout"
        }
      ]
    },
    {
      "cell_type": "markdown",
      "metadata": {
        "id": "LxFw05vjP56e",
        "colab_type": "text"
      },
      "source": [
        "# The model"
      ]
    },
    {
      "cell_type": "code",
      "metadata": {
        "id": "hks6jlyQP6Mk",
        "colab_type": "code",
        "outputId": "b7acc2f8-c1d2-4136-ab8a-0a7d43d36d60",
        "colab": {
          "base_uri": "https://localhost:8080/",
          "height": 289
        }
      },
      "source": [
        "inputs = Input(shape=(28,28))\n",
        "x = Reshape(target_shape=(784,), input_shape=(28,28))(inputs)\n",
        "\n",
        "f = Dense(units=400, activation='relu')(x)\n",
        "y = Dense(units=10)(f)\n",
        "model = keras.Model(inputs, y, name='mnist_nielsen')\n",
        "model.summary()"
      ],
      "execution_count": 15,
      "outputs": [
        {
          "output_type": "stream",
          "text": [
            "Model: \"mnist_nielsen\"\n",
            "_________________________________________________________________\n",
            "Layer (type)                 Output Shape              Param #   \n",
            "=================================================================\n",
            "input_1 (InputLayer)         [(None, 28, 28)]          0         \n",
            "_________________________________________________________________\n",
            "reshape (Reshape)            (None, 784)               0         \n",
            "_________________________________________________________________\n",
            "dense (Dense)                (None, 400)               314000    \n",
            "_________________________________________________________________\n",
            "dense_1 (Dense)              (None, 10)                4010      \n",
            "=================================================================\n",
            "Total params: 318,010\n",
            "Trainable params: 318,010\n",
            "Non-trainable params: 0\n",
            "_________________________________________________________________\n"
          ],
          "name": "stdout"
        }
      ]
    },
    {
      "cell_type": "markdown",
      "metadata": {
        "id": "T56gcnQrmqcO",
        "colab_type": "text"
      },
      "source": [
        "To calculate the loss, create a loss object (which is callable) and maintain a running average using tf.keras.metrics.Mean\n",
        "\n",
        "To calculate accuracy, just create an accuracy object (which is callable) which is itself a metric, so we need not do anything further to track its running average.\n",
        "\n",
        "The optimizer is not a callable object, instead you call the `apply_gradients` method"
      ]
    },
    {
      "cell_type": "code",
      "metadata": {
        "id": "4PbWgN4el2nX",
        "colab_type": "code",
        "colab": {}
      },
      "source": [
        "loss_object = tf.keras.losses.SparseCategoricalCrossentropy(from_logits=True)\n",
        "optimizer = tf.keras.optimizers.Adam()"
      ],
      "execution_count": 0,
      "outputs": []
    },
    {
      "cell_type": "markdown",
      "metadata": {
        "id": "ghMw5Dp7qTnB",
        "colab_type": "text"
      },
      "source": [
        "To calculate accuracy, just create an accuracy object (which is callable) which is itself a metric, so we need not do anything further to track its running average."
      ]
    },
    {
      "cell_type": "code",
      "metadata": {
        "id": "5bsrMUgAqTxC",
        "colab_type": "code",
        "colab": {}
      },
      "source": [
        "train_accuracy = tf.keras.metrics.SparseCategoricalAccuracy(name='train_accuracy')\n",
        "test_accuracy = tf.keras.metrics.SparseCategoricalAccuracy(name='test_accuracy')"
      ],
      "execution_count": 0,
      "outputs": []
    },
    {
      "cell_type": "markdown",
      "metadata": {
        "id": "jzna5qDrp3KS",
        "colab_type": "text"
      },
      "source": [
        "Create separate metrics for train and test. "
      ]
    },
    {
      "cell_type": "code",
      "metadata": {
        "id": "v1AyCrZ6p3Xh",
        "colab_type": "code",
        "colab": {}
      },
      "source": [
        "train_loss_object = tf.keras.metrics.Mean('train_loss')\n",
        "test_loss_object = tf.keras.metrics.Mean('test_loss')"
      ],
      "execution_count": 0,
      "outputs": []
    },
    {
      "cell_type": "code",
      "metadata": {
        "id": "eDqpOdHyhkBQ",
        "colab_type": "code",
        "colab": {}
      },
      "source": [
        "def epoch(dataset, training=False):\n",
        "  total_loss = 0\n",
        "  loss_tracker = train_loss_object if training else test_loss_object\n",
        "  # print(\"loss trackers created\")\n",
        "  acc_object = train_accuracy if training else test_accuracy\n",
        "  for images, labels in dataset:\n",
        "    with tf.GradientTape() as tape:\n",
        "      prediction = model(images, training=training)\n",
        "      # print(prediction.numpy().shape)\n",
        "      loss = loss_object(labels, prediction)\n",
        "      acc_object(labels, prediction)\n",
        "    gradients = tape.gradient(loss, model.trainable_variables)\n",
        "    optimizer.apply_gradients(zip(gradients, model.trainable_variables))\n",
        "  loss_tracker(loss)\n",
        "  print(acc_object.result())\n",
        "  return \n",
        "\n",
        "def train_epoch():\n",
        "  epoch(train_ds, training=True)\n",
        "\n",
        "def test_epoch():\n",
        "  epoch(test_ds)\n"
      ],
      "execution_count": 0,
      "outputs": []
    },
    {
      "cell_type": "code",
      "metadata": {
        "id": "rnciERJIuwIk",
        "colab_type": "code",
        "colab": {}
      },
      "source": [
        "for epoch_number in range(20):\n",
        "  train_epoch()"
      ],
      "execution_count": 0,
      "outputs": []
    },
    {
      "cell_type": "code",
      "metadata": {
        "id": "YZdMrOEf2xBf",
        "colab_type": "code",
        "colab": {
          "base_uri": "https://localhost:8080/",
          "height": 34
        },
        "outputId": "ae6d555f-5a00-40a3-d8cc-62e2d7350ca3"
      },
      "source": [
        "train_loss_object.reset_states()\n",
        "train_loss_object.reset_states()\n",
        "train_accuracy.reset_states()\n",
        "test_accuracy.reset_states()\n",
        "\n",
        "test_epoch()"
      ],
      "execution_count": 21,
      "outputs": [
        {
          "output_type": "stream",
          "text": [
            "tf.Tensor(0.9746, shape=(), dtype=float32)\n"
          ],
          "name": "stdout"
        }
      ]
    },
    {
      "cell_type": "code",
      "metadata": {
        "id": "S3UX6ysc6l9S",
        "colab_type": "code",
        "colab": {}
      },
      "source": [
        ""
      ],
      "execution_count": 0,
      "outputs": []
    }
  ]
}