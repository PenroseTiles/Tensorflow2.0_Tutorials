{
  "nbformat": 4,
  "nbformat_minor": 0,
  "metadata": {
    "colab": {
      "name": "TF2_MNIST_tutorial.ipynb",
      "provenance": [],
      "toc_visible": true,
      "authorship_tag": "ABX9TyOEeIxSSu7OcrDeAKSo9l7w",
      "include_colab_link": true
    },
    "kernelspec": {
      "name": "python3",
      "display_name": "Python 3"
    }
  },
  "cells": [
    {
      "cell_type": "markdown",
      "metadata": {
        "id": "view-in-github",
        "colab_type": "text"
      },
      "source": [
        "<a href=\"https://colab.research.google.com/github/PenroseTiles/Tensorflow2.0_Tutorials/blob/master/TF2_MNIST_tutorial.ipynb\" target=\"_parent\"><img src=\"https://colab.research.google.com/assets/colab-badge.svg\" alt=\"Open In Colab\"/></a>"
      ]
    },
    {
      "cell_type": "code",
      "metadata": {
        "id": "jLDvKBJBWB7Q",
        "colab_type": "code",
        "colab": {}
      },
      "source": [
        "try:\n",
        "  %tensorflow_version 2.x\n",
        "except Exception:\n",
        "  pass\n",
        "import numpy as np\n",
        "import tensorflow as tf\n",
        "from tensorflow import keras"
      ],
      "execution_count": 0,
      "outputs": []
    },
    {
      "cell_type": "code",
      "metadata": {
        "id": "XfM_Fmyetcs7",
        "colab_type": "code",
        "colab": {}
      },
      "source": [
        "import typing"
      ],
      "execution_count": 0,
      "outputs": []
    },
    {
      "cell_type": "code",
      "metadata": {
        "colab_type": "code",
        "id": "0trJmd6DjqBZ",
        "colab": {}
      },
      "source": [
        "from __future__ import absolute_import, division, print_function, unicode_literals\n",
        "from tensorflow.keras.layers import Dense, Flatten, Conv2D\n",
        "from tensorflow.keras import Model, Input"
      ],
      "execution_count": 0,
      "outputs": []
    },
    {
      "cell_type": "markdown",
      "metadata": {
        "id": "_Y8dUCwDdy0X",
        "colab_type": "text"
      },
      "source": [
        "Testing eager execution, vetarans who worked with TF 1.x will know the pain of debugging without this"
      ]
    },
    {
      "cell_type": "code",
      "metadata": {
        "id": "9iDsNQbuWLGD",
        "colab_type": "code",
        "colab": {}
      },
      "source": [
        "a = tf.constant(2.0)\n",
        "b = tf.constant(3.0)\n",
        "c = a+b"
      ],
      "execution_count": 0,
      "outputs": []
    },
    {
      "cell_type": "code",
      "metadata": {
        "id": "8uP8ybTNXcae",
        "colab_type": "code",
        "outputId": "f3fedafc-14ea-4550-82f0-b0c4446e796d",
        "colab": {
          "base_uri": "https://localhost:8080/",
          "height": 34
        }
      },
      "source": [
        "c.numpy()"
      ],
      "execution_count": 0,
      "outputs": [
        {
          "output_type": "execute_result",
          "data": {
            "text/plain": [
              "5.0"
            ]
          },
          "metadata": {
            "tags": []
          },
          "execution_count": 31
        }
      ]
    },
    {
      "cell_type": "markdown",
      "metadata": {
        "id": "y8axuTFperuV",
        "colab_type": "text"
      },
      "source": [
        "#Load the dataset"
      ]
    },
    {
      "cell_type": "code",
      "metadata": {
        "id": "SDJUcZbGXgLO",
        "colab_type": "code",
        "colab": {}
      },
      "source": [
        "mnist = keras.datasets.mnist"
      ],
      "execution_count": 0,
      "outputs": []
    },
    {
      "cell_type": "code",
      "metadata": {
        "id": "DkDVfkVyaQqQ",
        "colab_type": "code",
        "colab": {}
      },
      "source": [
        "(x_train, y_train), (x_test, y_test) = mnist.load_data()\n",
        "x_train, x_test = x_train / 255.0, x_test / 255.0"
      ],
      "execution_count": 0,
      "outputs": []
    },
    {
      "cell_type": "markdown",
      "metadata": {
        "id": "nxqRQz10fLyc",
        "colab_type": "text"
      },
      "source": [
        "By using ellipsis, I avoid stating exactly the number of dimensions of the Tensor x_train, I just want to add a dimension to the tensor, regardless of how many dimensions it has"
      ]
    },
    {
      "cell_type": "code",
      "metadata": {
        "id": "KiyfsTp8e9f1",
        "colab_type": "code",
        "colab": {}
      },
      "source": [
        "x_train = x_train[..., tf.newaxis]\n",
        "x_test = x_test[..., tf.newaxis]"
      ],
      "execution_count": 0,
      "outputs": []
    },
    {
      "cell_type": "markdown",
      "metadata": {
        "id": "bEXXlfUbkt5a",
        "colab_type": "text"
      },
      "source": [
        "# Playing with *tf.Dataset*"
      ]
    },
    {
      "cell_type": "code",
      "metadata": {
        "id": "CPa_K9bNkuXw",
        "colab_type": "code",
        "outputId": "1dde2532-101b-43ea-f894-838e4e21ac29",
        "colab": {
          "base_uri": "https://localhost:8080/",
          "height": 170
        }
      },
      "source": [
        "data = tf.data.Dataset.from_tensor_slices(tf.range(8))\n",
        "it = iter(data)\n",
        "print(next(it).numpy())\n",
        "\n",
        "for i in data:\n",
        "  print(i.numpy())"
      ],
      "execution_count": 0,
      "outputs": [
        {
          "output_type": "stream",
          "text": [
            "0\n",
            "0\n",
            "1\n",
            "2\n",
            "3\n",
            "4\n",
            "5\n",
            "6\n",
            "7\n"
          ],
          "name": "stdout"
        }
      ]
    },
    {
      "cell_type": "markdown",
      "metadata": {
        "id": "Chy71JIqtSuc",
        "colab_type": "text"
      },
      "source": [
        "Map and Reduce"
      ]
    },
    {
      "cell_type": "code",
      "metadata": {
        "id": "deVrZ7FKfJYi",
        "colab_type": "code",
        "outputId": "8507d8f0-4f29-4287-d6a2-1685a34ba3ef",
        "colab": {
          "base_uri": "https://localhost:8080/",
          "height": 153
        }
      },
      "source": [
        "@tf.function\n",
        "def sum_data(data):\n",
        "  return data.reduce(0, lambda state, value : state + value)\n",
        "\n",
        "@tf.function\n",
        "def transform_data(data: tf.data.Dataset):\n",
        "  return data.map(lambda x : x+ 1)\n",
        "\n",
        "sum_data(data).numpy()\n",
        "mapped = transform_data(data) #\n",
        "\n",
        "'''\n",
        "mapped.numpy() will not work because mapped is an iterable, like every Dataset object\n",
        "But if I can't call numpy() on Datasets, how do I convert them to non-tensor form? \n",
        "You can call as_numpy_iterator() on it, it basically does what we do below: \n",
        "'''\n",
        "for item in mapped:\n",
        "  print(item.numpy())"
      ],
      "execution_count": 0,
      "outputs": [
        {
          "output_type": "stream",
          "text": [
            "1\n",
            "2\n",
            "3\n",
            "4\n",
            "5\n",
            "6\n",
            "7\n",
            "8\n"
          ],
          "name": "stdout"
        }
      ]
    },
    {
      "cell_type": "code",
      "metadata": {
        "id": "2BHRrMT_u0k7",
        "colab_type": "code",
        "colab": {}
      },
      "source": [
        "mn = tf.data.Dataset.from_tensor_slices((x_train, y_train)).batch(2)\n",
        "# mnist_y = tf.data.Dataset.from_tensor_slices(y_train)\n",
        "# mnist = tf.data.Dataset.zip((mnist_data_x, mnist_data_y))\n",
        "# mnist = mnist_x\n",
        "\n",
        "\n"
      ],
      "execution_count": 0,
      "outputs": []
    },
    {
      "cell_type": "code",
      "metadata": {
        "id": "QJwUIVIN1Ve9",
        "colab_type": "code",
        "outputId": "9499a08f-19e0-452d-99bf-8b41d27325cd",
        "colab": {
          "base_uri": "https://localhost:8080/",
          "height": 34
        }
      },
      "source": [
        "for image, label in mn:\n",
        "  print(image.numpy().shape)\n",
        "  break"
      ],
      "execution_count": 0,
      "outputs": [
        {
          "output_type": "stream",
          "text": [
            "(2, 28, 28, 1)\n"
          ],
          "name": "stdout"
        }
      ]
    },
    {
      "cell_type": "code",
      "metadata": {
        "id": "5TV6rwMe4pYu",
        "colab_type": "code",
        "colab": {}
      },
      "source": [
        "train_ds = tf.data.Dataset.from_tensor_slices((x_train, y_train)).shuffle(10000).batch(32)\n",
        "\n",
        "test_ds = tf.data.Dataset.from_tensor_slices((x_test, y_test)).batch(32)\n"
      ],
      "execution_count": 0,
      "outputs": []
    },
    {
      "cell_type": "code",
      "metadata": {
        "id": "fkHJXPe35MVU",
        "colab_type": "code",
        "outputId": "bd91dcd0-9bca-4b64-b5d9-b4b260c36041",
        "colab": {
          "base_uri": "https://localhost:8080/",
          "height": 34
        }
      },
      "source": [
        "for images, labels in train_ds:\n",
        "    print(images.numpy().shape)\n",
        "    break"
      ],
      "execution_count": 0,
      "outputs": [
        {
          "output_type": "stream",
          "text": [
            "(32, 28, 28, 1)\n"
          ],
          "name": "stdout"
        }
      ]
    },
    {
      "cell_type": "markdown",
      "metadata": {
        "id": "LxFw05vjP56e",
        "colab_type": "text"
      },
      "source": [
        "# The model"
      ]
    },
    {
      "cell_type": "code",
      "metadata": {
        "id": "hks6jlyQP6Mk",
        "colab_type": "code",
        "outputId": "768b15f8-0e6d-46e0-ab70-a8171257d88c",
        "colab": {
          "base_uri": "https://localhost:8080/",
          "height": 255
        }
      },
      "source": [
        "inputs = Input(shape=(28,28,1))\n",
        "x = Dense(units=400, activation='relu')(inputs)\n",
        "y = Dense(units=10)(x)\n",
        "model = keras.Model(inputs, y, name='mnist_nielsen')\n",
        "model.summary()"
      ],
      "execution_count": 0,
      "outputs": [
        {
          "output_type": "stream",
          "text": [
            "Model: \"mnist_nielsen\"\n",
            "_________________________________________________________________\n",
            "Layer (type)                 Output Shape              Param #   \n",
            "=================================================================\n",
            "input_3 (InputLayer)         [(None, 28, 28, 1)]       0         \n",
            "_________________________________________________________________\n",
            "dense_2 (Dense)              (None, 28, 28, 400)       800       \n",
            "_________________________________________________________________\n",
            "dense_3 (Dense)              (None, 28, 28, 10)        4010      \n",
            "=================================================================\n",
            "Total params: 4,810\n",
            "Trainable params: 4,810\n",
            "Non-trainable params: 0\n",
            "_________________________________________________________________\n"
          ],
          "name": "stdout"
        }
      ]
    },
    {
      "cell_type": "code",
      "metadata": {
        "id": "eDqpOdHyhkBQ",
        "colab_type": "code",
        "colab": {}
      },
      "source": [
        "@tf.function\n",
        "def train():\n",
        "  for x,y in dataset:\n",
        "    with tf.GradientTape() as tape:\n",
        "      prediction = model(x, training=True)\n",
        "      loss = loss_fn(prediction,y)\n",
        "    gradients = tape.gradient(loss, model.trainable_variables)\n",
        "    optimizer.apply_gradients(zip(gradients, model.trainable_variables))\n"
      ],
      "execution_count": 0,
      "outputs": []
    }
  ]
}